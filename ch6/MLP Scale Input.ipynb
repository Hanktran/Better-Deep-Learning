{
 "cells": [
  {
   "cell_type": "code",
   "execution_count": 6,
   "metadata": {},
   "outputs": [],
   "source": [
    "from sklearn.datasets import make_regression\n",
    "from sklearn.preprocessing import StandardScaler\n",
    "from sklearn.preprocessing import MinMaxScaler\n",
    "from keras.layers import Dense\n",
    "from keras.models import Sequential\n",
    "from keras.optimizers import SGD\n",
    "from matplotlib import pyplot\n",
    "from numpy import mean\n",
    "from numpy import std"
   ]
  },
  {
   "cell_type": "code",
   "execution_count": 7,
   "metadata": {},
   "outputs": [],
   "source": [
    "# prepare dataset with input and output scalers, can be none\n",
    "def get_dataset(input_scaler, output_scaler):\n",
    "    # generate dataset\n",
    "    X, Y = make_regression(n_samples=1000, n_features=20,\n",
    "                          noise=0.1, random_state=1)\n",
    "    # split into train and test\n",
    "    n_train = 500\n",
    "    trainX, testX = X[:n_train, :], X[n_train:, :]\n",
    "    trainY, testY = Y[:n_train], Y[n_train:]\n",
    "    # scale inputs\n",
    "    if input_scaler is not None:\n",
    "        # fit scaler\n",
    "        input_scaler.fit(trainX)\n",
    "        # transform training dataset\n",
    "        trainX = input_scaler.transform(trainX)\n",
    "        # trainsform test dataset\n",
    "        testX = input_scaler.transform(testX)\n",
    "    if output_scaler is not None:\n",
    "        # reshape 1d arrays to 2d arrays\n",
    "        trainY = trainY.reshape(len(trainY), 1)\n",
    "        testY = testY.reshape(len(testY), 1)\n",
    "        # fit scaler on training dataset\n",
    "        output_scaler.fit(trainY)\n",
    "        # transform training dataset\n",
    "        trainY = output_scaler.transform(trainY)\n",
    "        # transform test dataset\n",
    "        testY = output_scaler.transform(testY)\n",
    "    return trainX, trainY, testX, testY"
   ]
  },
  {
   "cell_type": "code",
   "execution_count": 8,
   "metadata": {},
   "outputs": [],
   "source": [
    "# fit and evaluate mse of model on test set\n",
    "def evaluate_model(trainX, trainY, testX, testY):\n",
    "    # define model\n",
    "    model = Sequential()\n",
    "    model.add(Dense(25, input_dim=20, activation='relu',\n",
    "                   kernel_initializer='he_uniform'))\n",
    "    model.add(Dense(1, activation='linear'))\n",
    "    # compile model\n",
    "    model.compile(loss='mean_squared_error', optimizer=SGD(lr=0.01, momentum=0.9))\n",
    "    # fit model\n",
    "    model.fit(trainX, trainY, epochs=100, verbose=0)\n",
    "    # evaluate the model\n",
    "    test_mse = model.evaluate(testX, testY, verbose=0)\n",
    "    return test_mse"
   ]
  },
  {
   "cell_type": "code",
   "execution_count": 9,
   "metadata": {},
   "outputs": [],
   "source": [
    "# evaluate model multiple times with given input and output scalers\n",
    "def repeated_evaluation(name, input_scaler, output_scaler, n_repeats=30):\n",
    "    print(name)\n",
    "    # get dataset\n",
    "    trainX, trainY, testX, testY = get_dataset(input_scaler, output_scaler)\n",
    "    # repeated evaluation of model\n",
    "    results = list()\n",
    "    for i in range(n_repeats):\n",
    "        test_mse = evaluate_model(trainX, trainY, testX, testY)\n",
    "        print('%d) %.3f' % (i, test_mse))\n",
    "        results.append(test_mse)\n",
    "    return results"
   ]
  },
  {
   "cell_type": "code",
   "execution_count": 10,
   "metadata": {},
   "outputs": [
    {
     "name": "stdout",
     "output_type": "stream",
     "text": [
      "Unscaled Inputs\n",
      "0) 0.005\n",
      "1) 0.009\n",
      "2) 0.005\n",
      "3) 0.001\n",
      "4) 0.006\n",
      "5) 0.004\n",
      "6) 0.008\n",
      "7) 0.005\n",
      "8) 0.006\n",
      "9) 0.000\n",
      "10) 0.006\n",
      "11) 0.009\n",
      "12) 0.002\n",
      "13) 0.005\n",
      "14) 0.012\n",
      "15) 0.007\n",
      "16) 0.009\n",
      "17) 0.001\n",
      "18) 0.010\n",
      "19) 0.000\n",
      "20) 0.006\n",
      "21) 0.006\n",
      "22) 0.010\n",
      "23) 0.008\n",
      "24) 0.006\n",
      "25) 0.011\n",
      "26) 0.012\n",
      "27) 0.011\n",
      "28) 0.011\n",
      "29) 0.007\n",
      "----------------------------------------\n",
      "Normalized Inputs\n",
      "0) 0.000\n",
      "1) 0.000\n",
      "2) 0.000\n",
      "3) 0.001\n",
      "4) 0.000\n",
      "5) 0.001\n",
      "6) 0.000\n",
      "7) 0.000\n",
      "8) 0.000\n",
      "9) 0.000\n",
      "10) 0.000\n",
      "11) 0.001\n",
      "12) 0.000\n",
      "13) 0.000\n",
      "14) 0.000\n",
      "15) 0.001\n",
      "16) 0.001\n",
      "17) 0.000\n",
      "18) 0.000\n",
      "19) 0.000\n",
      "20) 0.000\n",
      "21) 0.000\n",
      "22) 0.001\n",
      "23) 0.000\n",
      "24) 0.001\n",
      "25) 0.001\n",
      "26) 0.000\n",
      "27) 0.001\n",
      "28) 0.000\n",
      "29) 0.000\n",
      "----------------------------------------\n",
      "Standardized Inputs\n",
      "0) 0.001\n",
      "1) 0.007\n",
      "2) 0.007\n",
      "3) 0.004\n",
      "4) 0.008\n",
      "5) 0.009\n",
      "6) 0.010\n",
      "7) 0.001\n",
      "8) 0.007\n",
      "9) 0.008\n",
      "10) 0.005\n",
      "11) 0.008\n",
      "12) 0.005\n",
      "13) 0.006\n",
      "14) 0.009\n",
      "15) 0.011\n",
      "16) 0.008\n",
      "17) 0.009\n",
      "18) 0.010\n",
      "19) 0.004\n",
      "20) 0.004\n",
      "21) 0.008\n",
      "22) 0.011\n",
      "23) 0.012\n",
      "24) 0.010\n",
      "25) 0.011\n",
      "26) 0.008\n",
      "27) 0.000\n",
      "28) 0.009\n",
      "29) 0.014\n"
     ]
    }
   ],
   "source": [
    "# unscaled inputs\n",
    "results_unscaled_inputs = repeated_evaluation('Unscaled Inputs', None,\n",
    "                                              StandardScaler())\n",
    "print('----------------------------------------')\n",
    "# normalized inputs\n",
    "results_normalized_inputs = repeated_evaluation('Normalized Inputs',\n",
    "                                                MinMaxScaler(),\n",
    "                                                StandardScaler())\n",
    "print('----------------------------------------')\n",
    "# standardized inputs\n",
    "results_standardized_inputs = repeated_evaluation('Standardized Inputs',\n",
    "                                                  StandardScaler(),\n",
    "                                                  StandardScaler())"
   ]
  },
  {
   "cell_type": "code",
   "execution_count": 11,
   "metadata": {},
   "outputs": [
    {
     "data": {
      "text/plain": [
       "0.006561427395235902"
      ]
     },
     "execution_count": 11,
     "metadata": {},
     "output_type": "execute_result"
    }
   ],
   "source": [
    "# Unscaled\n",
    "mean(results_unscaled_inputs)"
   ]
  },
  {
   "cell_type": "code",
   "execution_count": 12,
   "metadata": {},
   "outputs": [
    {
     "data": {
      "text/plain": [
       "0.0032970304003999335"
      ]
     },
     "execution_count": 12,
     "metadata": {},
     "output_type": "execute_result"
    }
   ],
   "source": [
    "std(results_unscaled_inputs)"
   ]
  },
  {
   "cell_type": "code",
   "execution_count": 13,
   "metadata": {},
   "outputs": [
    {
     "data": {
      "text/plain": [
       "0.0004515104111133648"
      ]
     },
     "execution_count": 13,
     "metadata": {},
     "output_type": "execute_result"
    }
   ],
   "source": [
    "# Normalized\n",
    "mean(results_normalized_inputs)"
   ]
  },
  {
   "cell_type": "code",
   "execution_count": 14,
   "metadata": {},
   "outputs": [
    {
     "data": {
      "text/plain": [
       "0.00027831408021146545"
      ]
     },
     "execution_count": 14,
     "metadata": {},
     "output_type": "execute_result"
    }
   ],
   "source": [
    "std(results_normalized_inputs)"
   ]
  },
  {
   "cell_type": "code",
   "execution_count": 15,
   "metadata": {},
   "outputs": [
    {
     "data": {
      "text/plain": [
       "0.007385740485057855"
      ]
     },
     "execution_count": 15,
     "metadata": {},
     "output_type": "execute_result"
    }
   ],
   "source": [
    "# Standardized\n",
    "mean(results_standardized_inputs)"
   ]
  },
  {
   "cell_type": "code",
   "execution_count": 16,
   "metadata": {},
   "outputs": [
    {
     "data": {
      "text/plain": [
       "0.0032749586398413163"
      ]
     },
     "execution_count": 16,
     "metadata": {},
     "output_type": "execute_result"
    }
   ],
   "source": [
    "std(results_standardized_inputs)"
   ]
  },
  {
   "cell_type": "code",
   "execution_count": 17,
   "metadata": {},
   "outputs": [
    {
     "data": {
      "image/png": "[encoded data removed]",
      "text/plain": [
       "<Figure size 432x288 with 1 Axes>"
      ]
     },
     "metadata": {
      "needs_background": "light"
     },
     "output_type": "display_data"
    }
   ],
   "source": [
    "# plot results\n",
    "results = [\n",
    "    results_unscaled_inputs,\n",
    "    results_normalized_inputs,\n",
    "    results_standardized_inputs]\n",
    "labels = ['unscaled', 'normalized', 'standardized']\n",
    "pyplot.boxplot(results, labels=labels)\n",
    "pyplot.show()"
   ]
  },
  {
   "cell_type": "code",
   "execution_count": null,
   "metadata": {},
   "outputs": [],
   "source": []
  }
 ],
 "metadata": {
  "kernelspec": {
   "display_name": "Python 3",
   "language": "python",
   "name": "python3"
  },
  "language_info": {
   "codemirror_mode": {
    "name": "ipython",
    "version": 3
   },
   "file_extension": ".py",
   "mimetype": "text/x-python",
   "name": "python",
   "nbconvert_exporter": "python",
   "pygments_lexer": "ipython3",
   "version": "3.7.3"
  }
 },
 "nbformat": 4,
 "nbformat_minor": 2
}
