{
 "cells": [
  {
   "cell_type": "code",
   "execution_count": 1,
   "metadata": {},
   "outputs": [
    {
     "name": "stderr",
     "output_type": "stream",
     "text": [
      "Using TensorFlow backend.\n"
     ]
    }
   ],
   "source": [
    "from sklearn.datasets import make_circles\n",
    "from keras.models import Sequential\n",
    "from keras.layers import Dense\n",
    "from keras.optimizers import SGD\n",
    "from matplotlib import pyplot\n",
    "from numpy import where"
   ]
  },
  {
   "cell_type": "code",
   "execution_count": 2,
   "metadata": {},
   "outputs": [],
   "source": [
    "# generate 2d classification dataset\n",
    "X, Y = make_circles(n_samples=1000, noise=0.1, random_state=1)\n",
    "# change Y from {0,1} to {-1,1}\n",
    "Y[where(Y == 0)] = -1"
   ]
  },
  {
   "cell_type": "code",
   "execution_count": 3,
   "metadata": {},
   "outputs": [
    {
     "data": {
      "text/plain": [
       "array([ 1,  1, -1, -1, -1,  1, -1,  1, -1, -1, -1, -1,  1, -1,  1, -1, -1,\n",
       "       -1,  1, -1,  1, -1,  1,  1, -1, -1, -1,  1,  1, -1,  1,  1,  1, -1,\n",
       "       -1, -1, -1,  1,  1,  1,  1,  1, -1, -1, -1,  1,  1, -1, -1,  1,  1,\n",
       "       -1,  1, -1, -1, -1,  1,  1, -1,  1, -1, -1, -1,  1,  1,  1, -1,  1,\n",
       "        1, -1,  1, -1, -1,  1, -1, -1, -1,  1, -1,  1, -1,  1,  1,  1,  1,\n",
       "        1, -1,  1,  1,  1,  1, -1,  1,  1, -1,  1,  1,  1, -1, -1, -1, -1,\n",
       "        1, -1, -1,  1, -1,  1, -1,  1, -1,  1,  1, -1,  1, -1,  1, -1, -1,\n",
       "        1, -1, -1, -1, -1, -1,  1,  1,  1,  1,  1,  1, -1,  1, -1,  1,  1,\n",
       "        1,  1, -1,  1, -1, -1,  1,  1, -1,  1,  1,  1,  1,  1, -1,  1, -1,\n",
       "        1, -1,  1,  1,  1, -1, -1, -1, -1, -1,  1,  1, -1, -1,  1,  1, -1,\n",
       "       -1, -1, -1, -1,  1, -1, -1,  1,  1,  1, -1, -1,  1,  1,  1, -1, -1,\n",
       "       -1,  1,  1,  1,  1, -1,  1,  1, -1,  1,  1,  1, -1, -1,  1,  1, -1,\n",
       "        1,  1, -1, -1, -1,  1,  1, -1,  1, -1,  1, -1, -1, -1,  1, -1, -1,\n",
       "        1, -1,  1,  1,  1, -1,  1,  1,  1, -1, -1,  1, -1,  1,  1, -1,  1,\n",
       "       -1, -1,  1, -1, -1,  1,  1, -1,  1, -1, -1,  1, -1, -1, -1,  1,  1,\n",
       "        1,  1,  1,  1, -1, -1,  1, -1, -1,  1, -1, -1, -1, -1, -1, -1, -1,\n",
       "        1, -1,  1,  1,  1,  1,  1, -1,  1,  1, -1, -1,  1, -1,  1, -1, -1,\n",
       "        1,  1, -1, -1,  1,  1, -1, -1, -1, -1, -1,  1,  1,  1,  1,  1, -1,\n",
       "        1, -1,  1,  1,  1, -1,  1,  1,  1,  1, -1, -1, -1,  1,  1, -1,  1,\n",
       "       -1, -1,  1, -1, -1, -1,  1, -1,  1,  1, -1,  1,  1, -1, -1, -1,  1,\n",
       "        1,  1, -1,  1,  1, -1,  1, -1, -1,  1, -1, -1,  1,  1, -1,  1, -1,\n",
       "       -1,  1,  1, -1, -1, -1, -1,  1, -1, -1, -1, -1, -1,  1, -1, -1, -1,\n",
       "        1, -1,  1,  1,  1, -1,  1, -1,  1,  1,  1, -1, -1, -1, -1,  1,  1,\n",
       "        1, -1, -1, -1, -1,  1, -1,  1,  1, -1, -1,  1,  1, -1,  1,  1, -1,\n",
       "       -1, -1,  1,  1, -1, -1, -1,  1, -1,  1,  1,  1,  1,  1, -1, -1,  1,\n",
       "       -1, -1, -1,  1, -1,  1, -1,  1, -1,  1,  1, -1,  1,  1,  1, -1, -1,\n",
       "        1,  1,  1,  1, -1, -1, -1,  1,  1, -1,  1,  1, -1,  1,  1,  1,  1,\n",
       "        1, -1, -1, -1,  1, -1, -1, -1, -1, -1,  1, -1, -1,  1,  1,  1,  1,\n",
       "       -1, -1,  1,  1, -1,  1, -1,  1, -1, -1, -1, -1, -1, -1, -1, -1, -1,\n",
       "        1, -1, -1, -1,  1,  1, -1,  1, -1, -1, -1, -1, -1, -1,  1,  1, -1,\n",
       "       -1,  1, -1,  1,  1,  1,  1,  1, -1, -1, -1,  1,  1, -1, -1, -1, -1,\n",
       "        1,  1, -1,  1,  1,  1,  1, -1,  1, -1,  1,  1, -1, -1, -1, -1,  1,\n",
       "       -1, -1, -1,  1,  1,  1,  1,  1,  1,  1,  1,  1,  1,  1, -1, -1,  1,\n",
       "        1, -1, -1,  1,  1,  1, -1, -1,  1, -1, -1, -1,  1,  1,  1,  1, -1,\n",
       "       -1,  1, -1,  1, -1, -1, -1,  1,  1,  1,  1, -1, -1,  1,  1,  1, -1,\n",
       "       -1, -1, -1,  1, -1,  1, -1,  1,  1, -1, -1, -1, -1,  1, -1, -1,  1,\n",
       "       -1, -1, -1, -1, -1, -1,  1, -1,  1, -1,  1,  1, -1,  1, -1,  1,  1,\n",
       "        1, -1,  1, -1, -1,  1,  1,  1,  1,  1,  1, -1,  1, -1,  1,  1,  1,\n",
       "       -1,  1, -1, -1, -1,  1,  1,  1, -1,  1,  1, -1, -1, -1,  1,  1, -1,\n",
       "        1, -1,  1,  1,  1,  1, -1, -1,  1,  1,  1,  1, -1, -1, -1, -1, -1,\n",
       "        1, -1, -1,  1, -1, -1, -1,  1, -1,  1, -1, -1, -1,  1, -1,  1,  1,\n",
       "       -1, -1,  1, -1, -1,  1,  1,  1, -1, -1, -1, -1, -1,  1, -1, -1,  1,\n",
       "        1,  1,  1,  1,  1,  1, -1,  1,  1,  1,  1, -1,  1,  1, -1, -1, -1,\n",
       "        1, -1, -1,  1,  1,  1, -1, -1, -1,  1, -1, -1, -1, -1, -1,  1, -1,\n",
       "        1,  1,  1,  1, -1,  1, -1, -1, -1, -1, -1, -1,  1, -1,  1,  1,  1,\n",
       "       -1,  1,  1,  1,  1, -1,  1, -1, -1, -1,  1, -1, -1,  1, -1,  1,  1,\n",
       "       -1, -1,  1, -1,  1,  1, -1,  1, -1, -1,  1, -1, -1, -1, -1, -1,  1,\n",
       "        1,  1,  1,  1, -1,  1,  1,  1,  1,  1, -1, -1,  1,  1, -1, -1,  1,\n",
       "        1,  1,  1,  1, -1, -1,  1, -1, -1, -1,  1,  1, -1, -1,  1, -1, -1,\n",
       "        1,  1, -1,  1,  1, -1, -1, -1,  1, -1,  1,  1, -1, -1, -1,  1, -1,\n",
       "        1, -1,  1,  1, -1, -1, -1, -1,  1,  1,  1,  1,  1,  1,  1,  1,  1,\n",
       "       -1, -1,  1, -1, -1,  1, -1,  1,  1,  1, -1,  1,  1, -1, -1,  1,  1,\n",
       "       -1, -1,  1, -1,  1, -1, -1,  1, -1, -1,  1, -1,  1,  1,  1,  1, -1,\n",
       "       -1,  1, -1,  1,  1, -1, -1, -1, -1, -1,  1,  1, -1,  1,  1, -1,  1,\n",
       "       -1,  1, -1, -1, -1, -1, -1, -1, -1,  1,  1, -1,  1, -1,  1, -1, -1,\n",
       "        1,  1,  1,  1,  1, -1, -1, -1,  1, -1,  1, -1,  1,  1,  1, -1, -1,\n",
       "       -1,  1,  1, -1,  1,  1, -1, -1, -1, -1, -1,  1, -1,  1,  1, -1,  1,\n",
       "        1, -1,  1,  1, -1, -1,  1, -1,  1, -1, -1, -1, -1, -1, -1,  1,  1,\n",
       "        1,  1, -1, -1,  1,  1,  1,  1,  1,  1, -1,  1, -1, -1],\n",
       "      dtype=int64)"
      ]
     },
     "execution_count": 3,
     "metadata": {},
     "output_type": "execute_result"
    }
   ],
   "source": [
    "Y"
   ]
  },
  {
   "cell_type": "code",
   "execution_count": 4,
   "metadata": {},
   "outputs": [],
   "source": [
    "# split into train and test\n",
    "n_train = 500\n",
    "trainX, testX = X[:n_train, :], X[n_train:, :]\n",
    "trainY, testY = Y[:n_train], Y[n_train:]"
   ]
  },
  {
   "cell_type": "code",
   "execution_count": 5,
   "metadata": {},
   "outputs": [
    {
     "name": "stderr",
     "output_type": "stream",
     "text": [
      "WARNING: Logging before flag parsing goes to stderr.\n",
      "W1215 15:45:19.018522 11136 deprecation_wrapper.py:119] From C:\\Users\\Lenovo\\Anaconda3\\lib\\site-packages\\keras\\backend\\tensorflow_backend.py:74: The name tf.get_default_graph is deprecated. Please use tf.compat.v1.get_default_graph instead.\n",
      "\n",
      "W1215 15:45:19.048176 11136 deprecation_wrapper.py:119] From C:\\Users\\Lenovo\\Anaconda3\\lib\\site-packages\\keras\\backend\\tensorflow_backend.py:529: The name tf.placeholder is deprecated. Please use tf.compat.v1.placeholder instead.\n",
      "\n",
      "W1215 15:45:19.050147 11136 deprecation_wrapper.py:119] From C:\\Users\\Lenovo\\Anaconda3\\lib\\site-packages\\keras\\backend\\tensorflow_backend.py:4420: The name tf.random_uniform is deprecated. Please use tf.random.uniform instead.\n",
      "\n",
      "W1215 15:45:19.139542 11136 deprecation_wrapper.py:119] From C:\\Users\\Lenovo\\Anaconda3\\lib\\site-packages\\keras\\optimizers.py:793: The name tf.train.Optimizer is deprecated. Please use tf.compat.v1.train.Optimizer instead.\n",
      "\n"
     ]
    }
   ],
   "source": [
    "# define model\n",
    "model = Sequential()\n",
    "model.add(Dense(50, input_dim=2, activation='relu', kernel_initializer='he_uniform'))\n",
    "model.add(Dense(1, activation='tanh'))\n",
    "opt = SGD(lr=0.01, momentum=0.9)\n",
    "model.compile(loss='squared_hinge', optimizer=opt, metrics=['accuracy'])"
   ]
  },
  {
   "cell_type": "code",
   "execution_count": 6,
   "metadata": {},
   "outputs": [
    {
     "name": "stderr",
     "output_type": "stream",
     "text": [
      "W1215 15:45:19.375160 11136 deprecation.py:323] From C:\\Users\\Lenovo\\Anaconda3\\lib\\site-packages\\tensorflow\\python\\ops\\math_grad.py:1250: add_dispatch_support.<locals>.wrapper (from tensorflow.python.ops.array_ops) is deprecated and will be removed in a future version.\n",
      "Instructions for updating:\n",
      "Use tf.where in 2.0, which has the same broadcast rule as np.where\n",
      "W1215 15:45:19.424692 11136 deprecation_wrapper.py:119] From C:\\Users\\Lenovo\\Anaconda3\\lib\\site-packages\\keras\\backend\\tensorflow_backend.py:1021: The name tf.assign_add is deprecated. Please use tf.compat.v1.assign_add instead.\n",
      "\n",
      "W1215 15:45:19.465415 11136 deprecation_wrapper.py:119] From C:\\Users\\Lenovo\\Anaconda3\\lib\\site-packages\\keras\\backend\\tensorflow_backend.py:1008: The name tf.assign is deprecated. Please use tf.compat.v1.assign instead.\n",
      "\n"
     ]
    }
   ],
   "source": [
    "# fit model\n",
    "history = model.fit(trainX, trainY, validation_data=(testX, testY), epochs=200, verbose=0)"
   ]
  },
  {
   "cell_type": "code",
   "execution_count": 7,
   "metadata": {},
   "outputs": [
    {
     "data": {
      "image/png": "[encoded data removed]",
      "text/plain": [
       "<Figure size 432x288 with 2 Axes>"
      ]
     },
     "metadata": {
      "needs_background": "light"
     },
     "output_type": "display_data"
    }
   ],
   "source": [
    "_, train_acc = model.evaluate(trainX, trainY, verbose=0)\n",
    "_, test_acc = model.evaluate(testX, testY, verbose=0)\n",
    "\n",
    "# plot loss during training\n",
    "pyplot.subplot(211)\n",
    "pyplot.title('Squared Hinge Loss', pad=-20)\n",
    "pyplot.plot(history.history['loss'], label='train')\n",
    "pyplot.plot(history.history['val_loss'], label='test')\n",
    "pyplot.legend()\n",
    "\n",
    "# plot accuracy during training\n",
    "pyplot.subplot(212)\n",
    "pyplot.title('Classification Accuracy', pad=-40)\n",
    "pyplot.plot(history.history['acc'], label='train')\n",
    "pyplot.plot(history.history['val_acc'], label='test')\n",
    "pyplot.legend()\n",
    "pyplot.show()"
   ]
  }
 ],
 "metadata": {
  "kernelspec": {
   "display_name": "Python 3",
   "language": "python",
   "name": "python3"
  },
  "language_info": {
   "codemirror_mode": {
    "name": "ipython",
    "version": 3
   },
   "file_extension": ".py",
   "mimetype": "text/x-python",
   "name": "python",
   "nbconvert_exporter": "python",
   "pygments_lexer": "ipython3",
   "version": "3.7.3"
  }
 },
 "nbformat": 4,
 "nbformat_minor": 2
}
