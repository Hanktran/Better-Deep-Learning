{
 "cells": [
  {
   "cell_type": "code",
   "execution_count": 1,
   "metadata": {},
   "outputs": [
    {
     "name": "stderr",
     "output_type": "stream",
     "text": [
      "Using TensorFlow backend.\n"
     ]
    }
   ],
   "source": [
    "from sklearn.datasets import make_regression\n",
    "from sklearn.preprocessing import StandardScaler\n",
    "from keras.models import Sequential\n",
    "from keras.layers import Dense\n",
    "from keras.optimizers import SGD\n",
    "from matplotlib import pyplot"
   ]
  },
  {
   "cell_type": "code",
   "execution_count": 2,
   "metadata": {},
   "outputs": [],
   "source": [
    "# generate regression dataset\n",
    "X, Y = make_regression(n_samples=1000, n_features=20, noise=0.1, random_state=1)"
   ]
  },
  {
   "cell_type": "code",
   "execution_count": 3,
   "metadata": {},
   "outputs": [
    {
     "data": {
      "text/plain": [
       "(1000, 20)"
      ]
     },
     "execution_count": 3,
     "metadata": {},
     "output_type": "execute_result"
    }
   ],
   "source": [
    "X.shape"
   ]
  },
  {
   "cell_type": "code",
   "execution_count": 4,
   "metadata": {},
   "outputs": [
    {
     "data": {
      "text/plain": [
       "(1000,)"
      ]
     },
     "execution_count": 4,
     "metadata": {},
     "output_type": "execute_result"
    }
   ],
   "source": [
    "Y.shape"
   ]
  },
  {
   "cell_type": "code",
   "execution_count": 5,
   "metadata": {},
   "outputs": [
    {
     "data": {
      "text/plain": [
       "array([ 0.58372668,  0.78593639, -0.17187155,  0.66928708,  1.67181016,\n",
       "        0.59831823,  1.49807611,  0.27925069, -0.31705821, -0.41961259,\n",
       "       -0.21796143,  0.81186707, -0.79215259,  0.56621046,  0.97473625,\n",
       "       -0.8223744 ,  1.03007179, -0.67945508, -0.21540618,  1.03118947])"
      ]
     },
     "execution_count": 5,
     "metadata": {},
     "output_type": "execute_result"
    }
   ],
   "source": [
    "X[0]"
   ]
  },
  {
   "cell_type": "code",
   "execution_count": 6,
   "metadata": {},
   "outputs": [],
   "source": [
    "# standardize dataset\n",
    "X = StandardScaler().fit_transform(X)\n",
    "Y = StandardScaler().fit_transform(Y.reshape(len(Y), 1))[:,0]"
   ]
  },
  {
   "cell_type": "code",
   "execution_count": 7,
   "metadata": {},
   "outputs": [
    {
     "data": {
      "text/plain": [
       "array([[ 0.64516745,  0.76000873, -0.18010938, ..., -0.76479647,\n",
       "        -0.2088517 ,  1.04702956],\n",
       "       [ 1.91668806, -0.46635771,  1.19569536, ..., -0.70196101,\n",
       "         0.04332125,  0.27556296],\n",
       "       [-0.06519522,  0.31264841, -1.83288453, ...,  0.37878977,\n",
       "        -0.16435327,  0.65283426],\n",
       "       ...,\n",
       "       [-0.15471527, -0.27429653, -1.35192974, ...,  0.67848377,\n",
       "        -0.21611277, -0.84236813],\n",
       "       [-1.07225152, -0.16523037,  0.48553115, ..., -0.02186635,\n",
       "         1.48243756,  1.74981514],\n",
       "       [-1.24570623, -0.19130146,  0.60895001, ...,  2.72939424,\n",
       "        -1.42222369, -0.20585159]])"
      ]
     },
     "execution_count": 7,
     "metadata": {},
     "output_type": "execute_result"
    }
   ],
   "source": [
    "X"
   ]
  },
  {
   "cell_type": "code",
   "execution_count": 8,
   "metadata": {},
   "outputs": [
    {
     "data": {
      "text/plain": [
       "array([ 1.83574387e+00,  6.56329482e-01, -1.21592690e+00,  9.52206978e-01,\n",
       "       -4.68122128e-01, -4.59302209e-01,  1.90332494e-01, -1.63280948e-01,\n",
       "        1.71851832e+00,  3.50552363e-01,  3.80122188e-02,  2.25844817e-01,\n",
       "       -1.44965282e+00, -5.17236076e-01, -1.07167362e+00,  8.03362439e-01,\n",
       "       -3.14702032e-01, -4.06063394e-02, -1.55942047e-01, -2.71671889e+00,\n",
       "       -8.16698122e-02, -5.49399977e-01,  6.33706753e-01,  4.04819740e-01,\n",
       "       -8.59670790e-03, -9.73955140e-01, -1.93646428e-01, -4.34250850e-01,\n",
       "       -8.67713637e-01,  1.69909973e+00,  2.89540715e-01,  8.25950917e-01,\n",
       "       -6.42018431e-01, -3.26253830e-02, -1.43807638e+00,  4.14891856e-01,\n",
       "        6.14365202e-01,  8.15051349e-01, -4.70197731e-01, -1.13788656e-01,\n",
       "        7.68132228e-01,  4.96716622e-01, -7.95202475e-01, -1.76950561e+00,\n",
       "       -8.37314391e-01,  3.03722071e-01,  1.38500842e+00, -6.16783769e-01,\n",
       "       -8.88615990e-01, -4.22205036e-01, -7.15628695e-01,  6.19515110e-01,\n",
       "        1.27783916e+00, -2.01267185e-01, -1.79100533e+00,  6.78981778e-01,\n",
       "        8.46275851e-01,  1.04892092e-01, -5.33360694e-01, -1.16585399e-01,\n",
       "       -8.89257512e-01,  3.97286556e-01,  6.62650427e-01,  9.94449327e-01,\n",
       "       -1.11223131e+00, -1.85557374e-01, -4.96289302e-01,  4.49683653e-01,\n",
       "       -1.76693276e-01,  3.93140529e-01,  6.22993073e-01,  1.68350934e-01,\n",
       "        1.11422302e+00, -1.44701751e+00,  1.11039338e-02, -4.54924828e-01,\n",
       "       -2.69726777e-01, -6.59987593e-01, -9.89451473e-01,  6.56576919e-01,\n",
       "        4.07709823e-02, -9.91966625e-01, -8.42828249e-02,  4.30901100e-01,\n",
       "        1.54769054e+00,  1.88184569e-04, -7.59538616e-01,  1.17321874e-01,\n",
       "        1.62530176e-02, -5.00715059e-02, -6.44802266e-01,  1.72357836e+00,\n",
       "        1.54510653e-01, -3.76944100e-01,  1.07916658e+00, -1.29613379e-01,\n",
       "        5.67668152e-01, -8.38371637e-01, -1.66747123e+00, -1.30114319e-01,\n",
       "        7.50709017e-01, -9.14117860e-01, -2.54134542e-01, -1.34533592e-01,\n",
       "       -1.22017340e+00, -9.55383493e-01,  6.54558088e-01,  1.18780283e+00,\n",
       "        5.28088823e-01, -6.43016379e-01,  4.34072240e-01,  1.28062011e+00,\n",
       "       -1.48194742e+00, -1.06965736e+00, -7.35141072e-01,  1.45714849e-01,\n",
       "       -4.50266016e-01,  3.68221393e-02,  3.33867954e-01,  6.30491863e-01,\n",
       "       -1.53759607e+00,  3.14540208e-01, -1.49668361e-01, -1.06416185e-02,\n",
       "       -9.27566365e-02,  8.14151470e-01, -1.12556134e+00, -2.69356056e-01,\n",
       "       -1.54638822e+00,  2.93530017e-01,  1.29103416e+00, -2.07193432e-01,\n",
       "        1.43779640e+00, -1.49769615e+00,  1.09343316e+00, -1.43050444e+00,\n",
       "       -3.46523593e-01,  2.12823371e+00,  2.26528934e-01, -1.16180794e+00,\n",
       "       -2.39255532e-01, -5.21831047e-01, -1.03310625e-01, -1.82839134e-02,\n",
       "       -7.64831718e-01,  1.51607887e+00, -4.01003542e-01,  2.22412305e-01,\n",
       "       -3.33165630e-01, -4.71630114e-01, -1.65105744e-01, -3.97116930e-01,\n",
       "        7.37951505e-01,  1.04689533e+00,  1.41784603e-01, -5.49061006e-01,\n",
       "       -5.68874473e-01, -4.26312062e-01, -1.25544343e-02,  2.10733095e+00,\n",
       "        2.21485043e+00,  9.68973211e-01, -1.77968838e-01, -6.50044178e-01,\n",
       "       -1.26558422e+00, -2.01016802e+00, -2.39329670e-01, -1.51168861e-01,\n",
       "        6.15387130e-01,  3.38836359e-01, -7.40872596e-01,  9.67660608e-01,\n",
       "       -8.66675441e-01, -8.64327680e-01,  3.28034312e-01, -6.49999822e-01,\n",
       "       -1.17244274e+00, -7.24425217e-01,  7.33427626e-01, -1.09099179e+00,\n",
       "        3.43720446e-01, -1.52843676e+00, -3.67045689e-01, -7.46100084e-01,\n",
       "       -2.10641530e-01, -3.59662296e-01, -1.41265465e+00,  1.07842402e+00,\n",
       "       -1.47154721e-01,  1.76630978e+00, -1.20127564e+00,  1.48964798e+00,\n",
       "       -1.56827723e+00,  8.13305842e-01,  4.35325735e-01, -1.32539583e+00,\n",
       "       -3.02516444e-01,  1.37965971e+00,  7.23406062e-01, -2.28265531e+00,\n",
       "       -1.02722913e+00, -6.72516104e-01, -1.18897265e+00,  1.43444441e+00,\n",
       "        3.98662573e-01, -1.53864991e+00,  9.26358226e-01,  1.20269168e+00,\n",
       "       -1.56118511e+00,  4.57270292e-01, -1.98523915e+00, -2.81831549e-01,\n",
       "        7.77940797e-01, -9.06221352e-02,  1.54465577e-01,  7.11232865e-01,\n",
       "       -5.50382514e-01,  5.32275029e-01,  2.45886471e-01, -4.90834846e-03,\n",
       "       -3.94379135e-01,  4.20016548e-01,  3.87058685e-01,  1.68238925e+00,\n",
       "       -1.40529168e+00, -5.61585200e-01,  4.42079117e-01, -1.11398837e+00,\n",
       "        3.33975925e-02, -1.88662562e-02,  1.03108485e+00,  7.17959747e-01,\n",
       "       -1.53744281e+00,  3.88795111e-01, -1.31198162e-01, -5.09663826e-01,\n",
       "       -2.02028758e-01, -3.84140574e-01,  5.43884679e-01,  1.82435573e+00,\n",
       "       -1.18407689e+00, -8.52836741e-01,  2.82049613e-01, -1.67698890e+00,\n",
       "        2.38873797e-01,  7.96309176e-01, -2.79755356e-01,  1.75786295e-03,\n",
       "       -1.99619315e-01,  4.88154877e-02,  3.43386318e-01, -5.64572307e-01,\n",
       "       -6.79622749e-01, -1.46316551e-01,  1.08733899e+00, -6.50249785e-01,\n",
       "       -4.85691671e-01, -7.20798982e-01, -1.09507192e-01, -7.65441054e-01,\n",
       "        1.10132698e+00,  6.23586589e-01, -9.99104466e-01,  8.12299641e-01,\n",
       "        1.01942320e+00, -5.49370615e-01, -4.62878275e-01,  1.00655663e+00,\n",
       "        8.77950460e-01, -2.83610431e-01,  2.33875546e-01,  9.67629198e-01,\n",
       "       -7.76992920e-01, -1.10398604e-01, -2.61721862e-02, -6.80263142e-01,\n",
       "       -6.14777506e-01,  7.28957824e-01, -8.51656087e-01,  2.58423283e-01,\n",
       "       -1.50849992e+00, -9.36172184e-01, -6.06377882e-01, -4.33244397e-01,\n",
       "       -9.25028293e-01,  3.22170289e-01,  6.17686478e-01, -1.59542022e+00,\n",
       "       -3.71612344e-01, -2.18073734e-01,  1.02633113e+00, -6.96212345e-01,\n",
       "       -4.40293027e-01, -7.97933139e-02,  4.81482241e-01,  8.55362627e-01,\n",
       "       -1.92411010e+00,  1.21857734e+00,  1.06455280e+00,  1.21948296e+00,\n",
       "        8.30431749e-02,  1.28337708e-01,  1.02959082e+00,  1.55023743e+00,\n",
       "       -2.89879861e-01,  4.55943546e-01, -7.87503711e-02,  7.44280801e-01,\n",
       "        9.40227271e-01, -8.46499623e-01,  8.16941001e-01,  2.69607064e-01,\n",
       "       -1.22425267e+00,  4.46476896e-02, -3.52295276e-01,  4.80504409e-01,\n",
       "        9.91954712e-02,  5.02687598e-01, -4.49544538e-01,  1.94382109e+00,\n",
       "       -1.58757209e+00, -1.19363507e+00, -1.35063530e+00, -1.23528855e+00,\n",
       "       -8.88451381e-01,  1.20306195e-01,  7.78508899e-01,  2.38627499e+00,\n",
       "       -4.81732433e-01, -1.38884463e+00,  2.06904779e-01, -1.28684682e-01,\n",
       "        1.15810803e+00, -1.08895118e+00, -8.86376615e-01, -1.24628175e-01,\n",
       "       -6.24221310e-02, -5.51305838e-02, -3.51340634e-01, -6.34999097e-01,\n",
       "        1.12016773e+00,  1.33491759e+00,  6.21995803e-01, -3.59296567e-01,\n",
       "       -1.39050671e+00, -5.48835152e-01,  1.17349703e+00,  4.43170748e-01,\n",
       "       -5.24401292e-01, -1.33998859e-01, -2.22479338e+00,  4.48218507e-01,\n",
       "       -6.90367023e-01,  1.70157151e+00,  4.37927549e-01, -2.21998356e-01,\n",
       "        1.32248322e-01,  8.00603077e-01, -7.03102154e-01, -4.88631637e-02,\n",
       "        7.79162933e-01, -1.49823658e+00, -1.79030843e+00, -1.44379906e+00,\n",
       "        7.14132661e-01, -1.06062121e+00, -6.84603095e-01, -9.94298816e-01,\n",
       "        6.36598233e-01,  3.59676190e-01,  1.60746434e-02,  4.87479029e-01,\n",
       "       -7.12118436e-01,  1.13053690e+00,  2.41268221e-01,  1.47935484e+00,\n",
       "        2.68897490e-01, -7.86757794e-01,  8.30288076e-01,  2.83765997e-01,\n",
       "       -7.09072398e-01,  5.04853355e-01, -6.32921183e-01, -4.34574779e-01,\n",
       "       -9.82884903e-01,  5.31092533e-01,  8.01074977e-01,  2.57636254e+00,\n",
       "        2.78719990e-01, -3.05628119e-01,  3.49173684e-01,  1.22146869e+00,\n",
       "        1.23659808e+00, -2.29283088e+00,  7.84877129e-01,  7.06959613e-01,\n",
       "       -5.33168630e-01,  1.07986401e+00, -7.08361465e-01,  1.22028163e-01,\n",
       "       -1.09845076e+00, -1.18394228e+00, -8.13406542e-01,  7.20708022e-01,\n",
       "        3.25048404e-01, -1.22762128e+00,  6.32110530e-02, -4.20514627e-01,\n",
       "       -4.28694660e-01,  7.75591765e-02, -7.15853182e-02, -1.26986965e-01,\n",
       "       -2.91863916e-01,  8.63080198e-01,  1.08982268e+00, -3.41338168e-01,\n",
       "        9.49834405e-01, -4.74849872e-01, -1.32003871e+00,  7.93072412e-01,\n",
       "        2.12394665e-01,  1.20726706e+00, -1.84401766e+00, -3.08638629e-01,\n",
       "        1.57153465e+00,  9.12291718e-01,  1.07614384e+00,  1.14458080e+00,\n",
       "        2.38026278e-01,  1.99959442e+00, -3.32651276e-01,  8.23958009e-01,\n",
       "        1.27295774e+00, -7.38282451e-01,  4.27839335e-01,  1.25062351e+00,\n",
       "       -2.74003648e+00, -7.84642399e-01,  2.12680165e-01, -3.53303303e-01,\n",
       "       -2.06970013e+00, -3.31962161e-01, -1.13396739e-02,  7.45566668e-01,\n",
       "       -1.32563301e+00, -1.64249235e+00,  1.56663881e+00, -6.81575478e-01,\n",
       "        1.37821386e+00,  1.08063718e+00, -1.47385240e-01, -4.72826368e-01,\n",
       "       -1.50588639e+00, -9.07225129e-01,  1.36985407e+00,  1.64300695e+00,\n",
       "        7.72947229e-01,  3.92485404e-01,  8.43398115e-01, -4.81809947e-01,\n",
       "        3.59408466e+00, -7.06050824e-01, -1.28739515e-01,  1.76083360e+00,\n",
       "        5.08820460e-01,  7.91818627e-01,  2.98719992e-01, -2.06407578e+00,\n",
       "        9.62772161e-02,  5.65399558e-01,  2.19103124e+00,  9.60392325e-01,\n",
       "       -3.71778781e-01,  3.94956748e-01,  2.81386092e-01, -2.06920330e+00,\n",
       "        3.84724649e-01, -1.28546762e+00, -1.21633893e+00,  1.39760913e+00,\n",
       "        1.58690942e-01,  7.89166477e-01,  3.33485121e-01, -1.58229182e-01,\n",
       "        1.39844760e+00, -8.90375767e-03,  6.16873843e-03, -3.75361107e-01,\n",
       "       -2.64199279e-01, -1.27947537e+00,  2.05978869e-01,  7.50662525e-01,\n",
       "       -4.76108342e-01, -3.65259602e-01,  2.77082901e-01, -1.47373160e+00,\n",
       "        1.04575282e+00, -9.11093719e-01,  1.21358088e+00, -3.18056409e-01,\n",
       "        2.96332451e-01,  7.15953108e-01, -9.61041421e-01,  1.45442996e+00,\n",
       "        5.52521659e-01,  8.67093869e-01,  9.03593542e-01, -1.19477912e+00,\n",
       "        1.01497882e-02,  2.63478031e-01, -1.83283991e+00, -2.97954683e-01,\n",
       "       -1.10162708e+00, -2.40562549e-01, -8.92763886e-03,  1.85831056e-01,\n",
       "        8.42415106e-01,  3.10961333e-01,  2.03315895e+00,  2.25297022e+00,\n",
       "       -1.53137858e+00,  6.64614528e-01, -3.86805564e-01,  2.68026884e+00,\n",
       "       -2.01563345e+00,  1.71554122e+00, -1.03455914e+00,  2.18616751e+00,\n",
       "       -8.98122613e-01,  5.65509172e-01, -1.01162208e-01, -4.96953702e-01,\n",
       "        8.68851262e-01, -1.00410556e+00, -1.07071206e+00,  8.05711443e-01,\n",
       "       -8.32662173e-01,  4.14644517e-01, -1.00393394e+00,  1.42989348e+00,\n",
       "       -1.89908304e-01,  3.90044331e-01, -1.42719299e+00,  6.14255017e-01,\n",
       "       -9.97226974e-01, -1.08241039e-01, -3.23317738e-02, -2.01964572e+00,\n",
       "       -6.32785960e-01,  1.81325815e-01, -6.47815863e-01,  7.21115815e-01,\n",
       "        7.38515661e-01,  7.77276360e-01,  3.62675795e-01, -3.79357523e-01,\n",
       "       -8.78065584e-02, -3.69128409e-01, -3.80486200e-01,  8.61197408e-01,\n",
       "       -7.99029605e-02,  1.72059128e+00, -1.64094301e+00,  9.02734275e-02,\n",
       "       -1.71496007e-01,  3.14975594e-01, -1.66921763e+00, -4.75104161e-01,\n",
       "       -1.12074302e-01,  4.05874247e-01,  7.77289531e-01, -4.25821710e-01,\n",
       "       -5.64702054e-01, -1.39738251e+00,  1.85496227e+00,  1.14529778e+00,\n",
       "        1.68686783e-01, -1.21688397e-01, -2.12439729e+00, -1.57506887e-01,\n",
       "        7.06295794e-01,  4.08351978e-01,  1.02767377e+00, -2.17694447e-01,\n",
       "       -8.57875307e-01, -9.44144146e-01, -1.42687190e+00, -1.17204010e+00,\n",
       "        8.97840817e-01,  1.86002090e+00,  1.84227058e+00, -6.35753930e-01,\n",
       "       -4.69686735e-01, -2.74294431e-01,  9.52974901e-01,  4.77267659e-01,\n",
       "        2.33803554e-01, -2.22296647e+00, -1.10046859e+00, -3.34366380e-02,\n",
       "       -1.12415684e+00,  6.98987920e-02, -1.06995908e-01,  1.26357309e-01,\n",
       "       -1.01739162e-02,  1.95577168e+00, -1.49244394e+00,  1.27080452e-01,\n",
       "        1.52057043e+00, -1.25577628e+00, -6.96053383e-01, -1.25646937e+00,\n",
       "        5.61224097e-01, -1.01247960e+00,  2.07555005e-01,  1.17464228e+00,\n",
       "       -9.52297914e-01,  4.76739881e-01, -1.47343609e-01, -2.22467703e+00,\n",
       "        8.14344434e-01,  4.57767880e-01, -1.07064461e+00,  1.62898777e+00,\n",
       "        1.79950103e+00, -1.40482374e+00,  5.21496079e-01, -4.37449162e-01,\n",
       "        5.48188282e-01, -1.54782635e+00,  1.65215116e+00,  5.79789343e-01,\n",
       "        1.07163483e-01, -6.24585019e-01,  7.62027945e-01, -1.56788151e+00,\n",
       "        4.05346367e-01,  2.04215428e+00, -6.96056046e-01, -3.33730918e-01,\n",
       "        2.10040941e-01, -5.35158541e-01, -5.30295287e-02, -1.36327275e+00,\n",
       "       -8.34006139e-01, -1.26166393e+00,  6.80525560e-01, -1.94357621e-01,\n",
       "       -9.45155614e-01,  8.32237888e-01,  9.33963906e-01,  1.18893074e-01,\n",
       "       -3.48019970e-01, -9.62285686e-01, -2.38567179e-01, -1.70024455e+00,\n",
       "        3.81129750e-01,  6.18076895e-01, -1.71099311e+00,  1.02618447e+00,\n",
       "        1.54604354e-01, -1.43902950e+00,  1.04081373e-01, -8.83515995e-01,\n",
       "       -1.98160838e+00,  1.46912638e-01,  3.24147291e-01, -7.13996026e-02,\n",
       "       -4.71995087e-01, -3.86750611e-01,  9.44356790e-01, -8.79710534e-01,\n",
       "       -9.29389393e-01,  1.17931579e+00,  5.15509945e-01,  3.70897263e-01,\n",
       "        3.37467138e-01, -3.95304262e-01,  5.25363993e-01, -1.08969018e+00,\n",
       "       -3.67653801e-01,  2.12427392e-01,  1.37045019e-01, -1.44021287e+00,\n",
       "        3.21689364e-01, -6.66529768e-01, -7.99768666e-01,  2.45082241e+00,\n",
       "        7.98886790e-01,  1.01528694e+00,  5.22730343e-01, -6.69142119e-01,\n",
       "       -6.15738805e-01, -1.56008721e-01,  2.94434514e-01,  1.23484422e+00,\n",
       "        1.54406547e-01, -1.32473891e-01,  7.23796185e-01,  2.60098391e-01,\n",
       "        2.46100545e+00, -1.05925680e+00,  7.22507661e-01,  6.42578195e-01,\n",
       "        1.14550654e+00, -1.85261879e-01, -8.22054191e-01, -3.48129368e-01,\n",
       "       -8.08221955e-01, -1.49124297e+00,  1.08746336e+00,  5.36642285e-01,\n",
       "       -1.51800432e+00, -1.93657257e+00,  2.65288860e+00, -3.46767461e-01,\n",
       "        1.17514315e+00, -6.37905151e-01,  1.71963151e+00, -1.09238054e+00,\n",
       "        2.11679284e+00,  2.89965336e+00,  1.65894000e+00,  1.82044200e+00,\n",
       "       -7.46200619e-01,  1.84478212e+00,  2.72448039e-01,  3.70715188e-01,\n",
       "        4.77845599e-01, -1.44343653e+00, -2.24510609e-01,  1.23234125e+00,\n",
       "       -2.65539388e-01, -2.88191021e-01,  6.42543871e-01,  4.48047156e-01,\n",
       "        1.81694521e+00, -8.34269006e-01,  1.32477953e+00,  2.09936409e+00,\n",
       "        1.36127997e+00, -1.12337123e+00, -3.67503801e-01,  3.15826076e-01,\n",
       "       -7.15042619e-01, -5.82364642e-01,  2.03548797e+00, -1.63993593e+00,\n",
       "        3.12906997e-01, -1.17999962e+00, -3.57661960e-01,  1.31416670e+00,\n",
       "       -1.90118869e+00,  6.86707764e-01, -1.17109901e+00,  4.67011007e-01,\n",
       "        7.58056143e-01, -2.56274923e-02,  1.29507983e+00, -1.08063048e+00,\n",
       "        2.64573662e-01,  3.21563620e-01, -1.75553959e+00,  6.80922946e-01,\n",
       "       -2.53331088e-01, -1.70067261e+00,  1.21672231e+00, -8.34382338e-01,\n",
       "       -1.03122063e+00, -3.08425392e-01,  3.36586481e-01,  4.56184841e-01,\n",
       "        1.25655986e+00,  1.19999260e-01, -2.87747661e+00,  1.44118013e+00,\n",
       "       -7.03002812e-01, -3.03388409e-01,  3.61981323e-01, -1.12662035e+00,\n",
       "        8.20326080e-01, -1.15813241e+00,  9.94265829e-01, -1.01021089e+00,\n",
       "        1.06261090e+00,  5.62068224e-01,  1.90418784e-01,  1.79385869e-01,\n",
       "       -1.84184425e-01, -1.40534748e+00,  1.65921472e+00,  1.13178377e+00,\n",
       "        1.44032595e+00, -3.85728681e-01, -1.77972030e+00, -1.93076957e-01,\n",
       "        2.49752641e-01,  7.05094524e-01,  1.48268046e-01, -2.11783972e-01,\n",
       "        1.04041990e+00,  7.75525453e-01, -2.30739035e-01,  3.49218055e-01,\n",
       "        1.60752185e+00,  9.36889582e-01,  5.27308603e-01, -3.74251627e-01,\n",
       "       -1.15602977e+00, -1.63713307e+00, -6.33472895e-01, -5.44720268e-01,\n",
       "        3.50147649e-01,  1.08035846e+00,  1.50699532e-01,  6.96835831e-01,\n",
       "       -6.48141946e-01, -4.59577304e-01,  5.59812293e-01,  4.13036086e-02,\n",
       "       -9.43368668e-01, -6.89245742e-01, -1.01249122e+00, -1.90351523e+00,\n",
       "        2.53526804e+00,  2.40171432e+00,  3.83374655e-01,  4.43923844e-01,\n",
       "       -4.05273137e-01, -6.50063241e-01, -8.95874012e-01,  1.04026518e+00,\n",
       "       -4.63693766e-01, -6.46339007e-02, -3.25592454e-01,  5.11104062e-01,\n",
       "        6.08428757e-01,  1.51874632e-01, -1.32921396e+00,  3.89393649e-01,\n",
       "       -2.43175911e-01, -1.58899398e-01,  1.03085123e+00,  9.88164490e-01,\n",
       "       -1.44507826e+00,  6.61155986e-01,  2.44265888e+00,  6.54469644e-01,\n",
       "       -2.04628238e+00,  1.59495605e-01, -9.36290265e-01,  1.45240745e+00,\n",
       "       -4.50255815e-02,  8.92806345e-01, -1.36653506e+00,  2.70549795e-01,\n",
       "        7.42575022e-01, -1.35057446e+00, -1.54160265e-01,  1.46517525e+00,\n",
       "       -1.84611649e+00, -1.78609918e+00,  3.73686991e-01,  3.64776503e-02,\n",
       "       -5.60809394e-01,  1.41848849e+00, -3.03773304e-01,  1.14225336e-02,\n",
       "       -7.07908237e-01,  9.44347324e-02,  2.19309097e-01, -1.56545123e-01,\n",
       "        4.29137003e-01, -3.53965653e-01,  8.20427581e-01,  1.74995231e+00,\n",
       "       -5.59112075e-01,  9.64544841e-01, -1.45985343e+00,  2.78566068e+00,\n",
       "       -7.05555865e-01,  1.17697627e+00,  2.07351634e+00, -1.93696088e+00,\n",
       "        5.61445601e-02, -2.61549118e-01,  8.91022171e-01,  5.89190234e-01,\n",
       "        8.17595716e-01, -1.41978979e+00, -1.25686707e+00, -8.52443191e-02,\n",
       "       -4.86229141e-01, -1.02048021e-01, -4.81785401e-01, -1.10762556e+00,\n",
       "        1.77121531e+00, -1.27038563e-01,  8.19247008e-01, -5.63250064e-01,\n",
       "       -1.62941254e+00, -1.74447374e-02, -3.28561416e-01,  1.84071572e+00,\n",
       "        6.44241641e-01, -1.38249525e+00,  8.89413013e-01,  9.07211288e-01,\n",
       "        7.17921878e-01,  3.46512387e-01,  1.84097628e+00, -9.16792106e-01,\n",
       "        3.93829925e-01,  1.56408370e+00,  1.80818611e+00, -2.83703181e-01,\n",
       "        1.00221099e-01,  5.14956456e-01, -1.05844837e+00, -6.31827246e-01,\n",
       "        6.84953649e-01, -4.43056317e-01, -6.07683822e-01,  1.06970415e+00,\n",
       "       -2.03860537e+00, -7.51964545e-01,  8.46854626e-01,  1.01331064e-01,\n",
       "       -1.26763970e+00, -8.00229413e-01,  3.26918365e-01,  1.19255879e+00,\n",
       "       -4.42834412e-01,  8.24954488e-01, -6.86914176e-01,  3.33127412e-01,\n",
       "       -3.81417971e-02, -6.82543641e-02,  1.75551737e+00, -4.93898225e-01,\n",
       "       -5.07100614e-01,  9.69277731e-01,  3.68054373e-01, -6.71592166e-01,\n",
       "        3.16402062e-01, -3.95483699e-01, -1.12375987e+00, -1.64240745e+00,\n",
       "        3.74736389e+00, -9.72801715e-01,  9.41402382e-01,  1.33758690e+00,\n",
       "        6.59231780e-01, -1.24697972e+00, -1.05433041e+00,  7.26612433e-01,\n",
       "       -2.51693390e-01, -4.88172053e-01,  8.07145821e-01, -2.27633745e+00,\n",
       "        1.30374308e+00,  6.82275468e-01, -7.57172562e-01,  5.13290483e-01,\n",
       "        7.19141512e-01, -9.81177442e-01, -1.55139377e+00, -6.33949950e-01,\n",
       "        3.31047256e-01,  7.88925750e-02, -8.79864336e-01, -1.92170124e+00,\n",
       "        8.49007090e-01, -3.58728550e-01, -2.06007965e+00,  1.00500006e+00,\n",
       "       -1.08588028e+00,  1.32143392e+00,  2.39224608e-01, -4.96672329e-01,\n",
       "        1.48840284e+00,  1.18594284e+00,  6.91155543e-01, -2.12722790e+00,\n",
       "       -4.29980861e-01,  8.00736846e-01, -2.88794218e-01, -2.58562792e+00,\n",
       "       -1.25989532e-01, -1.30160450e+00, -2.46801709e-01,  6.49126897e-01,\n",
       "        6.65441317e-02, -2.77207509e-01, -4.62548522e-01,  1.10619501e+00,\n",
       "        1.18652838e+00,  3.51925181e-01,  1.90105352e-01, -1.44370263e+00])"
      ]
     },
     "execution_count": 8,
     "metadata": {},
     "output_type": "execute_result"
    }
   ],
   "source": [
    "Y"
   ]
  },
  {
   "cell_type": "code",
   "execution_count": 9,
   "metadata": {},
   "outputs": [],
   "source": [
    "# split into train and test\n",
    "n_train = 500\n",
    "trainX, testX = X[:n_train, :], X[n_train:, :]\n",
    "trainY, testY = Y[:n_train], Y[n_train:]"
   ]
  },
  {
   "cell_type": "code",
   "execution_count": 10,
   "metadata": {},
   "outputs": [
    {
     "name": "stderr",
     "output_type": "stream",
     "text": [
      "WARNING: Logging before flag parsing goes to stderr.\n",
      "W1214 08:10:53.842844 14828 deprecation_wrapper.py:119] From C:\\Users\\Lenovo\\Anaconda3\\lib\\site-packages\\keras\\backend\\tensorflow_backend.py:74: The name tf.get_default_graph is deprecated. Please use tf.compat.v1.get_default_graph instead.\n",
      "\n",
      "W1214 08:10:53.863787 14828 deprecation_wrapper.py:119] From C:\\Users\\Lenovo\\Anaconda3\\lib\\site-packages\\keras\\backend\\tensorflow_backend.py:529: The name tf.placeholder is deprecated. Please use tf.compat.v1.placeholder instead.\n",
      "\n",
      "W1214 08:10:53.866779 14828 deprecation_wrapper.py:119] From C:\\Users\\Lenovo\\Anaconda3\\lib\\site-packages\\keras\\backend\\tensorflow_backend.py:4420: The name tf.random_uniform is deprecated. Please use tf.random.uniform instead.\n",
      "\n",
      "W1214 08:10:53.920635 14828 deprecation_wrapper.py:119] From C:\\Users\\Lenovo\\Anaconda3\\lib\\site-packages\\keras\\optimizers.py:793: The name tf.train.Optimizer is deprecated. Please use tf.compat.v1.train.Optimizer instead.\n",
      "\n"
     ]
    }
   ],
   "source": [
    "# define model\n",
    "model = Sequential()\n",
    "model.add(Dense(25, input_dim=20, activation='relu', kernel_initializer='he_uniform'))\n",
    "model.add(Dense(1, activation='linear'))\n",
    "opt = SGD(lr=0.01, momentum=0.9)\n",
    "model.compile(loss='mean_squared_error', optimizer=opt)"
   ]
  },
  {
   "cell_type": "code",
   "execution_count": 11,
   "metadata": {},
   "outputs": [
    {
     "name": "stderr",
     "output_type": "stream",
     "text": [
      "W1214 08:10:54.045303 14828 deprecation_wrapper.py:119] From C:\\Users\\Lenovo\\Anaconda3\\lib\\site-packages\\keras\\backend\\tensorflow_backend.py:1021: The name tf.assign_add is deprecated. Please use tf.compat.v1.assign_add instead.\n",
      "\n",
      "W1214 08:10:54.068241 14828 deprecation_wrapper.py:119] From C:\\Users\\Lenovo\\Anaconda3\\lib\\site-packages\\keras\\backend\\tensorflow_backend.py:1008: The name tf.assign is deprecated. Please use tf.compat.v1.assign instead.\n",
      "\n"
     ]
    }
   ],
   "source": [
    "# fit model\n",
    "history = model.fit(trainX, trainY, validation_data=(testX, testY), epochs=100, verbose=0)"
   ]
  },
  {
   "cell_type": "code",
   "execution_count": 12,
   "metadata": {},
   "outputs": [],
   "source": [
    "# evaluate the model\n",
    "train_mse = model.evaluate(trainX, trainY, verbose=0)\n",
    "test_mse = model.evaluate(testX, testY, verbose=0)"
   ]
  },
  {
   "cell_type": "code",
   "execution_count": 13,
   "metadata": {},
   "outputs": [
    {
     "data": {
      "image/png": "[encoded data removed]",
      "text/plain": [
       "<Figure size 432x288 with 1 Axes>"
      ]
     },
     "metadata": {
      "needs_background": "light"
     },
     "output_type": "display_data"
    }
   ],
   "source": [
    "pyplot.title('Mean Squared Error Loss')\n",
    "pyplot.plot(history.history['loss'], label='train')\n",
    "pyplot.plot(history.history['val_loss'], label='test')\n",
    "pyplot.legend()\n",
    "pyplot.show()"
   ]
  }
 ],
 "metadata": {
  "kernelspec": {
   "display_name": "Python 3",
   "language": "python",
   "name": "python3"
  },
  "language_info": {
   "codemirror_mode": {
    "name": "ipython",
    "version": 3
   },
   "file_extension": ".py",
   "mimetype": "text/x-python",
   "name": "python",
   "nbconvert_exporter": "python",
   "pygments_lexer": "ipython3",
   "version": "3.7.3"
  }
 },
 "nbformat": 4,
 "nbformat_minor": 2
}
