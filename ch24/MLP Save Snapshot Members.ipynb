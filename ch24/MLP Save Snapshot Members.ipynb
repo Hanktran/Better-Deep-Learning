{
 "cells": [
  {
   "cell_type": "code",
   "execution_count": 1,
   "metadata": {},
   "outputs": [
    {
     "name": "stderr",
     "output_type": "stream",
     "text": [
      "C:\\Users\\Lenovo\\Anaconda3\\lib\\importlib\\_bootstrap.py:219: RuntimeWarning: numpy.ufunc size changed, may indicate binary incompatibility. Expected 192 from C header, got 216 from PyObject\n",
      "  return f(*args, **kwds)\n",
      "C:\\Users\\Lenovo\\Anaconda3\\lib\\importlib\\_bootstrap.py:219: RuntimeWarning: numpy.ufunc size changed, may indicate binary incompatibility. Expected 192 from C header, got 216 from PyObject\n",
      "  return f(*args, **kwds)\n"
     ]
    }
   ],
   "source": [
    "from sklearn.datasets.samples_generator import make_blobs\n",
    "from keras.utils import to_categorical\n",
    "from keras.models import Sequential\n",
    "from keras.layers import Dense\n",
    "from keras.callbacks import Callback\n",
    "from keras.optimizers import SGD\n",
    "from keras import backend\n",
    "from math import pi\n",
    "from math import cos\n",
    "from math import floor"
   ]
  },
  {
   "cell_type": "code",
   "execution_count": 2,
   "metadata": {},
   "outputs": [],
   "source": [
    "# snapshot ensemble with custom learning rate schedule\n",
    "class SnapshotEnsemble(Callback):\n",
    "    # constructor\n",
    "    def __init__(self, n_epochs, n_cycles, lrate_max, verbose=0):\n",
    "        self.epochs = n_epochs\n",
    "        self.cycles = n_cycles\n",
    "        self.lr_max = lrate_max\n",
    "        self.lrates = list()\n",
    "        \n",
    "    # calculate learning rate for epoch\n",
    "    def cosine_annealing(self, epoch, n_epochs, n_cycles, lrate_max):\n",
    "        epochs_per_cycle = floor(n_epochs / n_cycles)\n",
    "        cos_inner = (pi * (epoch % epochs_per_cycle)) / epochs_per_cycle\n",
    "        return lrate_max / 2 * (cos(cos_inner) + 1)\n",
    "    \n",
    "    # calculate and set learning rate at the start of the epoch\n",
    "    def on_epoch_begin(self, epoch, logs={}):\n",
    "        # calculate learning rate\n",
    "        lr = self.cosine_annealing(epoch, self.epochs, self.cycles, self.lr_max)\n",
    "        # set learning rate\n",
    "        backend.set_value(self.model.optimizer.lr, lr)\n",
    "        # log value\n",
    "        self.lrates.append(lr)\n",
    "        \n",
    "    # save models at the end of each cycle\n",
    "    def on_epoch_end(self, epoch, logs={}):\n",
    "        # check if we can save model\n",
    "        epochs_per_cycle = floor(self.epochs / self.cycles)\n",
    "        if epoch != 0 and (epoch + 1) % epochs_per_cycle == 0:\n",
    "            # save model to file\n",
    "            filename = 'snapshot_model_%d.h5' % int((epoch + 1) / epochs_per_cycle)\n",
    "            self.model.save(filename)\n",
    "            print('> Saved snapshot %s, epoch %d' % (filename, epoch))"
   ]
  },
  {
   "cell_type": "code",
   "execution_count": 3,
   "metadata": {},
   "outputs": [],
   "source": [
    "# generate 2d classification dataset\n",
    "X, Y = make_blobs(n_samples=1100, centers=3, n_features=2,\n",
    "                 cluster_std=2, random_state=2)\n",
    "# one hot encode output variable\n",
    "Y = to_categorical(Y)\n",
    "# split into train and test\n",
    "n_train = 100\n",
    "trainX, testX = X[:n_train, :], X[n_train:, :]\n",
    "trainY, testY = Y[:n_train], Y[n_train:]"
   ]
  },
  {
   "cell_type": "code",
   "execution_count": 5,
   "metadata": {},
   "outputs": [
    {
     "name": "stderr",
     "output_type": "stream",
     "text": [
      "W0101 15:55:34.851837  9744 deprecation_wrapper.py:119] From C:\\Users\\Lenovo\\Anaconda3\\lib\\site-packages\\keras\\optimizers.py:793: The name tf.train.Optimizer is deprecated. Please use tf.compat.v1.train.Optimizer instead.\n",
      "\n",
      "W0101 15:55:34.861806  9744 deprecation_wrapper.py:119] From C:\\Users\\Lenovo\\Anaconda3\\lib\\site-packages\\keras\\backend\\tensorflow_backend.py:3564: The name tf.log is deprecated. Please use tf.math.log instead.\n",
      "\n"
     ]
    }
   ],
   "source": [
    "# define model\n",
    "model = Sequential()\n",
    "model.add(Dense(50, input_dim=2, activation='relu'))\n",
    "model.add(Dense(3, activation='softmax'))\n",
    "opt = SGD(momentum=0.9)\n",
    "model.compile(loss='categorical_crossentropy', optimizer=opt,\n",
    "             metrics=['accuracy'])"
   ]
  },
  {
   "cell_type": "code",
   "execution_count": 6,
   "metadata": {},
   "outputs": [
    {
     "name": "stderr",
     "output_type": "stream",
     "text": [
      "W0101 15:57:01.030104  9744 deprecation.py:323] From C:\\Users\\Lenovo\\Anaconda3\\lib\\site-packages\\tensorflow\\python\\ops\\math_grad.py:1250: add_dispatch_support.<locals>.wrapper (from tensorflow.python.ops.array_ops) is deprecated and will be removed in a future version.\n",
      "Instructions for updating:\n",
      "Use tf.where in 2.0, which has the same broadcast rule as np.where\n",
      "W0101 15:57:01.082522  9744 deprecation_wrapper.py:119] From C:\\Users\\Lenovo\\Anaconda3\\lib\\site-packages\\keras\\backend\\tensorflow_backend.py:1021: The name tf.assign_add is deprecated. Please use tf.compat.v1.assign_add instead.\n",
      "\n"
     ]
    },
    {
     "name": "stdout",
     "output_type": "stream",
     "text": [
      "> Saved snapshot snapshot_model_1.h5, epoch 49\n",
      "> Saved snapshot snapshot_model_2.h5, epoch 99\n",
      "> Saved snapshot snapshot_model_3.h5, epoch 149\n",
      "> Saved snapshot snapshot_model_4.h5, epoch 199\n",
      "> Saved snapshot snapshot_model_5.h5, epoch 249\n",
      "> Saved snapshot snapshot_model_6.h5, epoch 299\n",
      "> Saved snapshot snapshot_model_7.h5, epoch 349\n",
      "> Saved snapshot snapshot_model_8.h5, epoch 399\n",
      "> Saved snapshot snapshot_model_9.h5, epoch 449\n",
      "> Saved snapshot snapshot_model_10.h5, epoch 499\n"
     ]
    },
    {
     "data": {
      "text/plain": [
       "<keras.callbacks.History at 0x24199371dd8>"
      ]
     },
     "execution_count": 6,
     "metadata": {},
     "output_type": "execute_result"
    }
   ],
   "source": [
    "# create snapshot ensemble callback\n",
    "n_epochs = 500\n",
    "n_cycles = n_epochs / 50\n",
    "ca = SnapshotEnsemble(n_epochs, n_cycles, 0.01)\n",
    "# fit model\n",
    "model.fit(trainX, trainY, validation_data=(testX, testY), epochs=n_epochs,\n",
    "         verbose=0, callbacks=[ca])"
   ]
  },
  {
   "cell_type": "code",
   "execution_count": null,
   "metadata": {},
   "outputs": [],
   "source": []
  }
 ],
 "metadata": {
  "kernelspec": {
   "display_name": "Python 3",
   "language": "python",
   "name": "python3"
  },
  "language_info": {
   "codemirror_mode": {
    "name": "ipython",
    "version": 3
   },
   "file_extension": ".py",
   "mimetype": "text/x-python",
   "name": "python",
   "nbconvert_exporter": "python",
   "pygments_lexer": "ipython3",
   "version": "3.7.3"
  }
 },
 "nbformat": 4,
 "nbformat_minor": 2
}
