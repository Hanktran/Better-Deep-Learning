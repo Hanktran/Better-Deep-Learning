{
 "cells": [
  {
   "cell_type": "code",
   "execution_count": 1,
   "metadata": {},
   "outputs": [
    {
     "name": "stderr",
     "output_type": "stream",
     "text": [
      "Using TensorFlow backend.\n"
     ]
    }
   ],
   "source": [
    "from sklearn.datasets.samples_generator import make_blobs\n",
    "from keras.utils import to_categorical\n",
    "from keras.models import load_model\n",
    "from keras.models import clone_model\n",
    "from matplotlib import pyplot\n",
    "from numpy import average\n",
    "from numpy import array"
   ]
  },
  {
   "cell_type": "code",
   "execution_count": 2,
   "metadata": {},
   "outputs": [],
   "source": [
    "# load models from file\n",
    "def load_all_models(n_start, n_end):\n",
    "    all_models = list()\n",
    "    for epoch in range(n_start, n_end):\n",
    "        # define filename for this ensemble\n",
    "        filename = 'model_' + str(epoch) + '.h5'\n",
    "        # load model from file\n",
    "        model = load_model(filename)\n",
    "        # add to list of members\n",
    "        all_models.append(model)\n",
    "        print('> Loaded %s' % filename)\n",
    "    return all_models"
   ]
  },
  {
   "cell_type": "code",
   "execution_count": 3,
   "metadata": {},
   "outputs": [],
   "source": [
    "# create a model from the weights of multiple models\n",
    "def model_weight_ensemble(members, weights):\n",
    "    # determine how many layers need to be averaged\n",
    "    n_layers = len(members[0].get_weights())\n",
    "    # create an set of average model weights\n",
    "    avg_model_weights = list()\n",
    "    for layer in range(n_layers):\n",
    "        # collect this layer from each model\n",
    "        layer_weights = array([model.get_weights()[layer] for model in members])\n",
    "        # weighted average of weights for this layer\n",
    "        avg_layer_weights = average(layer_weights, axis=0, weights=weights)\n",
    "        # store average layer weights\n",
    "        avg_model_weights.append(avg_layer_weights)\n",
    "    # create a new model with the same structure\n",
    "    model = clone_model(members[0])\n",
    "    # set the weights in the new\n",
    "    model.set_weights(avg_model_weights)\n",
    "    model.compile(loss='categorical_crossentropy', optimizer='adam',\n",
    "                 metrics=['accuracy'])\n",
    "    return model"
   ]
  },
  {
   "cell_type": "code",
   "execution_count": 4,
   "metadata": {},
   "outputs": [],
   "source": [
    "# evaluate a specific number of members in an ensemble\n",
    "def evaluate_n_members(members, n_members, testX, testY):\n",
    "    # select a subset of members\n",
    "    subset = members[:n_members]\n",
    "    # prepare an array of equal weights\n",
    "    weights = [1.0/n_members for i in range(1, n_members+1)]\n",
    "    # create a new model with the weighted average of all model weights\n",
    "    model = model_weight_ensemble(subset, weights)\n",
    "    # make predictions and evaluate accuracy\n",
    "    _, test_acc = model.evaluate(testX, testY, verbose=0)\n",
    "    return test_acc"
   ]
  },
  {
   "cell_type": "code",
   "execution_count": 5,
   "metadata": {},
   "outputs": [],
   "source": [
    "# generate 2d classification dataset\n",
    "X, Y = make_blobs(n_samples=1100, centers=3, n_features=2,\n",
    "                 cluster_std=2, random_state=2)\n",
    "# one hot encode output variable\n",
    "Y = to_categorical(Y)\n",
    "# split into train and test\n",
    "n_train = 100\n",
    "trainX, testX = X[:n_train, :], X[n_train:, :]\n",
    "trainY, testY = Y[:n_train], Y[n_train:]"
   ]
  },
  {
   "cell_type": "code",
   "execution_count": 6,
   "metadata": {},
   "outputs": [
    {
     "name": "stderr",
     "output_type": "stream",
     "text": [
      "WARNING: Logging before flag parsing goes to stderr.\n",
      "W0102 13:30:00.193337 14448 deprecation_wrapper.py:119] From C:\\Users\\Lenovo\\Anaconda3\\lib\\site-packages\\keras\\backend\\tensorflow_backend.py:529: The name tf.placeholder is deprecated. Please use tf.compat.v1.placeholder instead.\n",
      "\n",
      "W0102 13:30:00.215126 14448 deprecation_wrapper.py:119] From C:\\Users\\Lenovo\\Anaconda3\\lib\\site-packages\\keras\\backend\\tensorflow_backend.py:4420: The name tf.random_uniform is deprecated. Please use tf.random.uniform instead.\n",
      "\n",
      "W0102 13:30:00.288885 14448 deprecation_wrapper.py:119] From C:\\Users\\Lenovo\\Anaconda3\\lib\\site-packages\\keras\\backend\\tensorflow_backend.py:178: The name tf.get_default_session is deprecated. Please use tf.compat.v1.get_default_session instead.\n",
      "\n",
      "W0102 13:30:00.291104 14448 deprecation_wrapper.py:119] From C:\\Users\\Lenovo\\Anaconda3\\lib\\site-packages\\keras\\backend\\tensorflow_backend.py:185: The name tf.ConfigProto is deprecated. Please use tf.compat.v1.ConfigProto instead.\n",
      "\n",
      "W0102 13:30:00.292278 14448 deprecation_wrapper.py:119] From C:\\Users\\Lenovo\\Anaconda3\\lib\\site-packages\\keras\\backend\\tensorflow_backend.py:191: The name tf.Session is deprecated. Please use tf.compat.v1.Session instead.\n",
      "\n",
      "W0102 13:30:03.064609 14448 deprecation_wrapper.py:119] From C:\\Users\\Lenovo\\Anaconda3\\lib\\site-packages\\keras\\optimizers.py:793: The name tf.train.Optimizer is deprecated. Please use tf.compat.v1.train.Optimizer instead.\n",
      "\n",
      "W0102 13:30:03.480516 14448 deprecation.py:323] From C:\\Users\\Lenovo\\Anaconda3\\lib\\site-packages\\tensorflow\\python\\ops\\math_grad.py:1250: add_dispatch_support.<locals>.wrapper (from tensorflow.python.ops.array_ops) is deprecated and will be removed in a future version.\n",
      "Instructions for updating:\n",
      "Use tf.where in 2.0, which has the same broadcast rule as np.where\n"
     ]
    },
    {
     "name": "stdout",
     "output_type": "stream",
     "text": [
      "> Loaded model_490.h5\n",
      "> Loaded model_491.h5\n",
      "> Loaded model_492.h5\n",
      "> Loaded model_493.h5\n",
      "> Loaded model_494.h5\n",
      "> Loaded model_495.h5\n",
      "> Loaded model_496.h5\n",
      "> Loaded model_497.h5\n",
      "> Loaded model_498.h5\n",
      "> Loaded model_499.h5\n",
      "Loaded 10 models\n"
     ]
    }
   ],
   "source": [
    "# load models in order\n",
    "members = load_all_models(490, 500)\n",
    "print('Loaded %d models' % len(members))"
   ]
  },
  {
   "cell_type": "code",
   "execution_count": 7,
   "metadata": {},
   "outputs": [],
   "source": [
    "# reverse loaded models so we build the ensemble with the last models first\n",
    "members = list(reversed(members))"
   ]
  },
  {
   "cell_type": "code",
   "execution_count": 8,
   "metadata": {},
   "outputs": [
    {
     "name": "stdout",
     "output_type": "stream",
     "text": [
      "> 1: single=0.811, ensemble=0.811\n",
      "> 2: single=0.806, ensemble=0.811\n",
      "> 3: single=0.805, ensemble=0.805\n",
      "> 4: single=0.803, ensemble=0.805\n",
      "> 5: single=0.805, ensemble=0.803\n",
      "> 6: single=0.801, ensemble=0.806\n",
      "> 7: single=0.800, ensemble=0.807\n",
      "> 8: single=0.801, ensemble=0.804\n",
      "> 9: single=0.803, ensemble=0.805\n",
      "> 10: single=0.805, ensemble=0.803\n"
     ]
    }
   ],
   "source": [
    "# evaluate different numbers of ensembles on hold out set\n",
    "single_scores, ensemble_scores = list(), list()\n",
    "for i in range(1, len(members)+1):\n",
    "    # evaluate model with i members\n",
    "    ensemble_score = evaluate_n_members(members, i, testX, testY)\n",
    "    # evaluate model with i members\n",
    "    _, single_score = members[i-1].evaluate(testX, testY, verbose=0)\n",
    "    # summarize this step\n",
    "    print('> %d: single=%.3f, ensemble=%.3f' % (i, single_score, ensemble_score))\n",
    "    ensemble_scores.append(ensemble_score)\n",
    "    single_scores.append(single_score)"
   ]
  },
  {
   "cell_type": "code",
   "execution_count": 9,
   "metadata": {},
   "outputs": [
    {
     "data": {
      "image/png": "[encoded data removed]",
      "text/plain": [
       "<Figure size 432x288 with 1 Axes>"
      ]
     },
     "metadata": {
      "needs_background": "light"
     },
     "output_type": "display_data"
    }
   ],
   "source": [
    "# plot score vs number of ensemble members\n",
    "x_axis = [i for i in range(1, len(members)+1)]\n",
    "pyplot.plot(x_axis, single_scores, marker='o', linestyle='None')\n",
    "pyplot.plot(x_axis, ensemble_scores, marker='o')\n",
    "pyplot.show()"
   ]
  },
  {
   "cell_type": "code",
   "execution_count": null,
   "metadata": {},
   "outputs": [],
   "source": []
  }
 ],
 "metadata": {
  "kernelspec": {
   "display_name": "Python 3",
   "language": "python",
   "name": "python3"
  },
  "language_info": {
   "codemirror_mode": {
    "name": "ipython",
    "version": 3
   },
   "file_extension": ".py",
   "mimetype": "text/x-python",
   "name": "python",
   "nbconvert_exporter": "python",
   "pygments_lexer": "ipython3",
   "version": "3.7.3"
  }
 },
 "nbformat": 4,
 "nbformat_minor": 2
}
