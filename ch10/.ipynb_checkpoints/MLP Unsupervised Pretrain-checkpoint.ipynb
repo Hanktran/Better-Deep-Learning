{
 "cells": [
  {
   "cell_type": "code",
   "execution_count": 1,
   "metadata": {},
   "outputs": [
    {
     "name": "stderr",
     "output_type": "stream",
     "text": [
      "Using TensorFlow backend.\n"
     ]
    }
   ],
   "source": [
    "# unsupervised greedy layer-wise pretraining for blobs classification problem\n",
    "from sklearn.datasets.samples_generator import make_blobs\n",
    "from keras.layers import Dense\n",
    "from keras.models import Sequential\n",
    "from keras.optimizers import SGD\n",
    "from keras.utils import to_categorical\n",
    "from matplotlib import pyplot"
   ]
  },
  {
   "cell_type": "code",
   "execution_count": 8,
   "metadata": {},
   "outputs": [],
   "source": [
    "# prepare the dataset\n",
    "def prepare_data():\n",
    "    # generate 2d classification dataset\n",
    "    X, Y = make_blobs(n_samples=1000, centers=3, n_features=2,\n",
    "                     cluster_std=2, random_state=2)\n",
    "    # one hot encode output variable\n",
    "    Y = to_categorical(Y)\n",
    "    # split into train and test\n",
    "    n_train = 500\n",
    "    trainX, testX = X[:n_train, :], X[n_train:, :]\n",
    "    trainY, testY = Y[:n_train], Y[n_train:]\n",
    "    return trainX, testX, trainY, testY"
   ]
  },
  {
   "cell_type": "code",
   "execution_count": 9,
   "metadata": {},
   "outputs": [],
   "source": [
    "# define, fit and evaluate the base autoencoder\n",
    "def base_autoencoder(trainX, testX):\n",
    "    # define model\n",
    "    model = Sequential()\n",
    "    model.add(Dense(10, input_dim=2, activation='relu',\n",
    "                   kernel_initializer='he_uniform'))\n",
    "    model.add(Dense(2, activation='linear'))\n",
    "    # compile model\n",
    "    model.compile(loss='mse', optimizer=SGD(lr=0.01, momentum=0.9))\n",
    "    # fit model\n",
    "    model.fit(trainX, trainX, epochs=100, verbose=0)\n",
    "    # evaluate reconstruction loss\n",
    "    train_mse = model.evaluate(trainX, trainX, verbose=0)\n",
    "    test_mse = model.evaluate(testX, testX, verbose=0)\n",
    "    print('> reconstruction error train=%.3f, test=%.3f' % (train_mse, test_mse))\n",
    "    return model"
   ]
  },
  {
   "cell_type": "code",
   "execution_count": 15,
   "metadata": {},
   "outputs": [],
   "source": [
    "# evaluate the autoencoder as a classifier\n",
    "def evaluate_autoencoder_as_classifier(model, trainX, trainY, testX, testY):\n",
    "    # remember the current output layer\n",
    "    output_layer = model.layers[-1]\n",
    "    # remove the output layer\n",
    "    model.pop()\n",
    "    # mark all remaining layers as non-trainable\n",
    "    for layer in model.layers:\n",
    "        layer.trainable = False\n",
    "    # add new output layer\n",
    "    model.add(Dense(3, activation='softmax'))\n",
    "    # compile model\n",
    "    model.compile(loss='categorical_crossentropy',\n",
    "                 optimizer=SGD(lr=0.01, momentum=0.9), metrics=['acc'])\n",
    "    # fit model\n",
    "    model.fit(trainX, trainY, epochs=100, verbose=0)\n",
    "    # evaluate model\n",
    "    _, train_acc = model.evaluate(trainX, trainY, verbose=0)\n",
    "    _, test_acc = model.evaluate(testX, testY, verbose=0)\n",
    "    # put the model back together\n",
    "    model.pop()\n",
    "    model.add(output_layer)\n",
    "    model.compile(loss='mse', optimizer=SGD(lr=0.01, momentum=0.9))\n",
    "    return train_acc, test_acc"
   ]
  },
  {
   "cell_type": "code",
   "execution_count": 16,
   "metadata": {},
   "outputs": [],
   "source": [
    "# add one new layer and re-train only the new layer\n",
    "def add_layer_to_autoencoder(model, trainX, testX):\n",
    "    # remember the current output layer\n",
    "    output_layer = model.layers[-1]\n",
    "    # remove the output layer\n",
    "    model.pop()\n",
    "    # mark all remaining layers as non-trainable\n",
    "    for layer in model.layers:\n",
    "        layer.trainable = False\n",
    "    model.add(Dense(10, activation='relu', kernel_initializer='he_uniform'))\n",
    "    # re-add the output layer\n",
    "    model.add(output_layer)\n",
    "    # fit model\n",
    "    model.fit(trainX, trainX, epochs=100, verbose=0)\n",
    "    # evaluate reconstruction loss\n",
    "    train_mse = model.evaluate(trainX, trainX, verbose=0)\n",
    "    test_mse = model.evaluate(testX, testX, verbose=0)\n",
    "    print('> reconstruction error train=%.3f, test=%.3f' % (train_mse, test_mse))"
   ]
  },
  {
   "cell_type": "code",
   "execution_count": 17,
   "metadata": {},
   "outputs": [],
   "source": [
    "# prepare data\n",
    "trainX, testX, trainY, testY = prepare_data()"
   ]
  },
  {
   "cell_type": "code",
   "execution_count": 18,
   "metadata": {},
   "outputs": [
    {
     "name": "stdout",
     "output_type": "stream",
     "text": [
      "> reconstruction error train=0.001, test=0.001\n"
     ]
    }
   ],
   "source": [
    "# get the base autoencoder\n",
    "model = base_autoencoder(trainX, testX)"
   ]
  },
  {
   "cell_type": "code",
   "execution_count": 19,
   "metadata": {},
   "outputs": [
    {
     "name": "stderr",
     "output_type": "stream",
     "text": [
      "W1221 06:17:09.735602  6576 deprecation.py:323] From C:\\Users\\Lenovo\\Anaconda3\\lib\\site-packages\\tensorflow\\python\\ops\\math_grad.py:1250: add_dispatch_support.<locals>.wrapper (from tensorflow.python.ops.array_ops) is deprecated and will be removed in a future version.\n",
      "Instructions for updating:\n",
      "Use tf.where in 2.0, which has the same broadcast rule as np.where\n"
     ]
    }
   ],
   "source": [
    "# evaluate the base model\n",
    "scores = dict()\n",
    "train_acc, test_acc = evaluate_autoencoder_as_classifier(model, trainX, trainY, testX, testY)"
   ]
  },
  {
   "cell_type": "code",
   "execution_count": 20,
   "metadata": {},
   "outputs": [
    {
     "data": {
      "text/plain": [
       "2"
      ]
     },
     "execution_count": 20,
     "metadata": {},
     "output_type": "execute_result"
    }
   ],
   "source": [
    "len(model.layers)"
   ]
  },
  {
   "cell_type": "code",
   "execution_count": 21,
   "metadata": {},
   "outputs": [
    {
     "data": {
      "text/plain": [
       "0.8240000009536743"
      ]
     },
     "execution_count": 21,
     "metadata": {},
     "output_type": "execute_result"
    }
   ],
   "source": [
    "train_acc"
   ]
  },
  {
   "cell_type": "code",
   "execution_count": 22,
   "metadata": {},
   "outputs": [
    {
     "data": {
      "text/plain": [
       "0.8400000009536743"
      ]
     },
     "execution_count": 22,
     "metadata": {},
     "output_type": "execute_result"
    }
   ],
   "source": [
    "test_acc"
   ]
  },
  {
   "cell_type": "code",
   "execution_count": 23,
   "metadata": {},
   "outputs": [],
   "source": [
    "scores[len(model.layers)] = (train_acc, test_acc)"
   ]
  },
  {
   "cell_type": "code",
   "execution_count": 24,
   "metadata": {},
   "outputs": [
    {
     "name": "stdout",
     "output_type": "stream",
     "text": [
      "> reconstruction error train=0.001, test=0.003\n",
      "> classifier accuracy layers=3, train=0.832, test=0.832\n",
      "> reconstruction error train=0.001, test=0.004\n",
      "> classifier accuracy layers=4, train=0.812, test=0.842\n",
      "> reconstruction error train=0.010, test=0.032\n",
      "> classifier accuracy layers=5, train=0.826, test=0.834\n",
      "> reconstruction error train=0.009, test=0.026\n",
      "> classifier accuracy layers=6, train=0.794, test=0.824\n",
      "> reconstruction error train=10.410, test=10.657\n",
      "> classifier accuracy layers=7, train=0.342, test=0.326\n"
     ]
    }
   ],
   "source": [
    "# add layers and evaluate the updated model\n",
    "n_layers = 5\n",
    "for _ in range(n_layers):\n",
    "    # add layer\n",
    "    add_layer_to_autoencoder(model, trainX, testX)\n",
    "    # evaluate model\n",
    "    train_acc, test_acc = evaluate_autoencoder_as_classifier(model, trainX, trainY, testX, testY)\n",
    "    print('> classifier accuracy layers=%d, train=%.3f, test=%.3f' % (len(model.layers), train_acc, test_acc))\n",
    "    # store scores for plotting\n",
    "    scores[len(model.layers)] = (train_acc, test_acc)"
   ]
  },
  {
   "cell_type": "code",
   "execution_count": 25,
   "metadata": {},
   "outputs": [
    {
     "data": {
      "image/png": "[encoded data removed]",
      "text/plain": [
       "<Figure size 432x288 with 1 Axes>"
      ]
     },
     "metadata": {
      "needs_background": "light"
     },
     "output_type": "display_data"
    }
   ],
   "source": [
    "# plot number of added layers vs accuracy\n",
    "keys = list(scores.keys())\n",
    "pyplot.plot(keys, [scores[k][0] for k in keys], label='train', marker='.')\n",
    "pyplot.plot(keys, [scores[k][1] for k in keys], label='test', marker='.')\n",
    "pyplot.legend()\n",
    "pyplot.show()"
   ]
  },
  {
   "cell_type": "code",
   "execution_count": null,
   "metadata": {},
   "outputs": [],
   "source": []
  }
 ],
 "metadata": {
  "kernelspec": {
   "display_name": "Python 3",
   "language": "python",
   "name": "python3"
  },
  "language_info": {
   "codemirror_mode": {
    "name": "ipython",
    "version": 3
   },
   "file_extension": ".py",
   "mimetype": "text/x-python",
   "name": "python",
   "nbconvert_exporter": "python",
   "pygments_lexer": "ipython3",
   "version": "3.7.3"
  }
 },
 "nbformat": 4,
 "nbformat_minor": 2
}
